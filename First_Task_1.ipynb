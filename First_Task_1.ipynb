{
 "cells": [
  {
   "cell_type": "markdown",
   "id": "68b84122-48b6-4331-a10a-a6c59c795be8",
   "metadata": {},
   "source": [
    "## Generates Clusters, Gini score and candle bar graphs from Embeddings"
   ]
  },
  {
   "cell_type": "code",
   "execution_count": 1,
   "id": "7d4a39af-8cea-4d5e-8481-70ccd5e0dd88",
   "metadata": {},
   "outputs": [
    {
     "name": "stdout",
     "output_type": "stream",
     "text": [
      "/project/code\n"
     ]
    }
   ],
   "source": [
    "!pwd"
   ]
  },
  {
   "cell_type": "code",
   "execution_count": 2,
   "id": "edf726d6-c80d-447b-8448-325d89579002",
   "metadata": {},
   "outputs": [
    {
     "name": "stdout",
     "output_type": "stream",
     "text": [
      "/project/code/task_2\n"
     ]
    }
   ],
   "source": [
    "cd task_2"
   ]
  },
  {
   "cell_type": "code",
   "execution_count": 5,
   "id": "c191c9f2-8155-4944-8666-d0b96d9490b5",
   "metadata": {},
   "outputs": [
    {
     "name": "stdout",
     "output_type": "stream",
     "text": [
      "Archive:  DS_framework-main.zip\n",
      "d266477ec9d8fca7d245fcfa6585413b065fda59\n",
      "   creating: DS_framework-main/\n",
      " extracting: DS_framework-main/.gitignore  \n",
      "  inflating: DS_framework-main/README.md  \n",
      "  inflating: DS_framework-main/candle_graph_seperate.html  \n",
      "  inflating: DS_framework-main/cluster_gini.py  \n",
      "  inflating: DS_framework-main/main.py  \n",
      "  inflating: DS_framework-main/newplot.png  \n",
      "  inflating: DS_framework-main/paths.json  \n",
      "  inflating: DS_framework-main/report.json  \n",
      "  inflating: DS_framework-main/requirements.txt  \n",
      "   creating: DS_framework-main/samples/\n",
      "  inflating: DS_framework-main/samples/embeddings_new_vae_r18_train_v2.tsv  \n",
      "  inflating: DS_framework-main/samples/embeddings_new_vae_r18_v2.tsv  \n",
      "  inflating: DS_framework-main/samples/metadata_new_vae_r18_train_v2.tsv  \n",
      "  inflating: DS_framework-main/samples/metadata_new_vae_r18_v2.tsv  \n"
     ]
    }
   ],
   "source": [
    "!unzip DS_framework-main.zip"
   ]
  },
  {
   "cell_type": "code",
   "execution_count": 15,
   "id": "9657fb24-0838-446a-adc1-03c2df0cf087",
   "metadata": {},
   "outputs": [
    {
     "name": "stdout",
     "output_type": "stream",
     "text": [
      "Collecting plotly\n",
      "  Downloading plotly-5.8.1-py2.py3-none-any.whl (15.2 MB)\n",
      "\u001b[2K     \u001b[90m━━━━━━━━━━━━━━━━━━━━━━━━━━━━━━━━━━━━━━━━\u001b[0m \u001b[32m15.2/15.2 MB\u001b[0m \u001b[31m79.6 MB/s\u001b[0m eta \u001b[36m0:00:00\u001b[0m00:01\u001b[0m0:01\u001b[0m\n",
      "\u001b[?25hCollecting tenacity>=6.2.0\n",
      "  Downloading tenacity-8.0.1-py3-none-any.whl (24 kB)\n",
      "Installing collected packages: tenacity, plotly\n",
      "Successfully installed plotly-5.8.1 tenacity-8.0.1\n",
      "\u001b[33mWARNING: Running pip as the 'root' user can result in broken permissions and conflicting behaviour with the system package manager. It is recommended to use a virtual environment instead: https://pip.pypa.io/warnings/venv\u001b[0m\u001b[33m\n",
      "\u001b[0m\u001b[33mWARNING: You are using pip version 22.0.4; however, version 22.1.2 is available.\n",
      "You should consider upgrading via the '/usr/bin/python3.8 -m pip install --upgrade pip' command.\u001b[0m\u001b[33m\n",
      "\u001b[0m"
     ]
    }
   ],
   "source": [
    "!pip install plotly"
   ]
  },
  {
   "cell_type": "code",
   "execution_count": 1,
   "id": "8c6c821e-68f2-4465-9f15-f7995116d9ab",
   "metadata": {},
   "outputs": [],
   "source": [
    "import sklearn\n",
    "import csv\n",
    "from sklearn.cluster import KMeans\n",
    "import numpy as np\n",
    "import matplotlib.pyplot as plt\n",
    "import copy\n",
    "import pandas as pd\n",
    "from math import dist\n",
    "import plotly.express as px\n",
    "import plotly\n",
    "import json"
   ]
  },
  {
   "cell_type": "markdown",
   "id": "a148e6d6-c33c-4630-8ac6-4b222742541e",
   "metadata": {},
   "source": [
    "## Gini Clustering"
   ]
  },
  {
   "cell_type": "code",
   "execution_count": 2,
   "id": "b9e021ed-d03a-4a27-8df6-f48bb9d27b27",
   "metadata": {},
   "outputs": [],
   "source": [
    "def gen_clusters_gini(embeddings, metadata, n_clusters, class_names):\n",
    "    \n",
    "    n_clusters = n_clusters\n",
    "    class_names = class_names    \n",
    "    embeddings = embeddings\n",
    "    metadata = metadata\n",
    "\n",
    "    X = []\n",
    "    L = []\n",
    "\n",
    "    for row in embeddings:\n",
    "        X.append(np.array(row).astype(float))\n",
    "\n",
    "    for row in metadata:\n",
    "        L.append(row[0])\n",
    "\n",
    "    print(\"Total number of images: \"+ str(len(X)))\n",
    "\n",
    "    kmeans = KMeans(n_clusters, init = 'k-means++', random_state=0)\n",
    "    y_kmeans = kmeans.fit_predict(X)\n",
    "\n",
    "    dict_map = []\n",
    "    for i in range(n_clusters):\n",
    "        dict1 = {}\n",
    "        for j in range(len(class_names)):\n",
    "            dict1[class_names[j]]= 0\n",
    "        dict_map.append(dict1)\n",
    "    dict_map\n",
    "\n",
    "\n",
    "    idx = 0\n",
    "\n",
    "    csv_row = []\n",
    "    for pred in kmeans.predict(X):\n",
    "\n",
    "        label = str(L[idx]).strip('[]\\'')\n",
    "        \n",
    "        csv_row.append([pred])\n",
    "        dict_map[pred][label] = dict_map[pred][label] + 1\n",
    "        idx = idx +1\n",
    "    print(json.dumps(dict_map,indent=4,sort_keys=True))\n",
    "  \n",
    "\n",
    "    ##GINI INDEX\n",
    "    cluster_names = []\n",
    "    gini_index = []\n",
    "    clstr = [0]*len(class_names)\n",
    "    clstr_name = []\n",
    "\n",
    "    centroids = kmeans.cluster_centers_\n",
    "\n",
    "    for cluster_num in range(len(centroids)):\n",
    "        max_class_val = max((dict_map[cluster_num].values()))\n",
    "        # cluster_names.append(class_names[dict_map2[cluster_num].values().index(max_class_val)])##\n",
    "        cls_nm = class_names[list(dict_map[cluster_num].values()).index(max_class_val)]\n",
    "        cluster_names.append(cls_nm)\n",
    "        clstr_name.append(cls_nm+\"_\"+str(clstr[class_names.index(cls_nm)]))\n",
    "        clstr[class_names.index(cls_nm)] += 1\n",
    "        \n",
    "\n",
    "    # print(clstr_name)\n",
    "    print(\"Cluster names: \", cluster_names)\n",
    "\n",
    "\n",
    "    gini_index = []\n",
    "    for cluster_num, class_name in enumerate(class_names):\n",
    "        num_data_pts_per_class = dict_map[cluster_num].values()\n",
    "        p_class = [x / sum(num_data_pts_per_class) for x in num_data_pts_per_class]\n",
    "        # print(p_class)\n",
    "        summation_p = 0\n",
    "        for p in range(len(p_class)):\n",
    "            summation_p = summation_p + p_class[p]**2\n",
    "        # print(summation_p)\n",
    "        gini_index_value = 1 - summation_p\n",
    "        gini_index.append(gini_index_value)\n",
    "        # print(gini_index_value)\n",
    "        \n",
    "    print(\"Gini Index: \",gini_index)\n",
    "    avg = sum(gini_index)/len(gini_index)\n",
    "    print(\"Average gini index: \",avg)\n",
    "\n",
    "    json_file = {\n",
    "        \"cluster_names\":cluster_names,\n",
    "        \"gini_index\": gini_index,\n",
    "        \"avg_gini_index\": avg,\n",
    "        \"cluster_map\": dict_map\n",
    "        }\n",
    "    # print(json.dumps(json_file,indent =4 ))\n",
    "    with open(\"report.json\", \"w\") as outfile:\n",
    "        json.dump(json_file, outfile, indent = 4)\n",
    "\n",
    "    newCls = []\n",
    "    Cls = []\n",
    "    for row in csv_row:\n",
    "        Cls.append(int(row[0]))\n",
    "\n",
    "\n",
    "    for c in Cls:\n",
    "        newCls.append(clstr_name[c])\n",
    "        \n",
    "    distances = []\n",
    "    for point in range(len(X)):\n",
    "        distances.append( dist(X[point], centroids[Cls[point]]))\n",
    "\n",
    "    # print(max(distances))\n",
    "\n",
    "    df = pd.DataFrame({\"Cluster\" : newCls,\n",
    "            \"Distance\" : distances,\n",
    "            \"Class\" : L})\n",
    "\n",
    "    fig = px.box(df, x=\"Cluster\",\n",
    "                y=\"Distance\",\n",
    "                color=\"Class\",\n",
    "                labels={\n",
    "                    \"Cluster\": \"Gini Index: \" + str(gini_index).replace('\\'',''),\n",
    "                    \"Distance\": \"Distance\",\n",
    "                    \"Class\": \"Class\"\n",
    "                },\n",
    "                title=\"K-means clustering with \"+ str(n_clusters) +\" clusters train+test-set\")\n",
    "    fig.update_traces(quartilemethod=\"exclusive\") # or \"inclusive\", or \"linear\" by default\n",
    "    # fig.show()\n",
    "    plotly.offline.plot(fig, filename='candle_graph_seperate.html')"
   ]
  },
  {
   "cell_type": "markdown",
   "id": "a5dbf119-56f6-4ca0-8dcc-ad15b4ebe491",
   "metadata": {},
   "source": [
    "## Files Path"
   ]
  },
  {
   "cell_type": "code",
   "execution_count": 3,
   "id": "e9b4e63f-9e56-4696-9a35-900442762931",
   "metadata": {},
   "outputs": [],
   "source": [
    "config = {\n",
    "    \"embeddings_train_path\" : \"/project/code/task_2/DS_framework-main/samples/embeddings_new_vae_r18_train_v2.tsv\",\n",
    "    \"metadata_train_path\" : \"/project/code/task_2/DS_framework-main/samples/metadata_new_vae_r18_train_v2.tsv\",\n",
    "    \"embeddings_test_path\" : \"/project/code/task_2/DS_framework-main/samples/embeddings_new_vae_r18_v2.tsv\",\n",
    "    \"metadata_test_path\" : \"/project/code/task_2/DS_framework-main/samples/metadata_new_vae_r18_v2.tsv\",\n",
    "    \"n_clusters\" : 5 ,\n",
    "    \"class_names\" : [\"car\", \"person\", \"truck\", \"traffic_light\", \"motor\"] \n",
    "}"
   ]
  },
  {
   "cell_type": "markdown",
   "id": "750c7e1c-0876-40b1-b5b1-a64e5be9a8e2",
   "metadata": {},
   "source": [
    "## Clustering on Train Data"
   ]
  },
  {
   "cell_type": "code",
   "execution_count": 4,
   "id": "9481e89a-bef0-4cf2-8b44-20e83de5e931",
   "metadata": {},
   "outputs": [],
   "source": [
    "import argparse\n",
    "import sys\n",
    "import json\n",
    "import os\n",
    "import csv\n",
    "\n",
    "\n",
    "def load_tsv(config):\n",
    "    embeddings_path = config['embeddings_train_path']\n",
    "    metadata_path = config['metadata_train_path']\n",
    "    \n",
    "    n_clusters = config['n_clusters']\n",
    "    class_names = config['class_names']\n",
    "    embeddings_file = open(embeddings_path) \n",
    "    embeddings = csv.reader(embeddings_file, delimiter=\"\\t\")\n",
    "    metadata_file = open(metadata_path) \n",
    "    metadata = csv.reader(metadata_file, delimiter=\"\\t\")\n",
    "    return embeddings,metadata,n_clusters,class_names"
   ]
  },
  {
   "cell_type": "code",
   "execution_count": 5,
   "id": "cee2e7ac-eb6d-4739-8fa6-3affbb71ad44",
   "metadata": {},
   "outputs": [
    {
     "name": "stdout",
     "output_type": "stream",
     "text": [
      "Total number of images: 3152\n",
      "[\n",
      "    {\n",
      "        \"car\": 35,\n",
      "        \"motor\": 150,\n",
      "        \"person\": 153,\n",
      "        \"traffic_light\": 115,\n",
      "        \"truck\": 149\n",
      "    },\n",
      "    {\n",
      "        \"car\": 66,\n",
      "        \"motor\": 40,\n",
      "        \"person\": 27,\n",
      "        \"traffic_light\": 89,\n",
      "        \"truck\": 138\n",
      "    },\n",
      "    {\n",
      "        \"car\": 148,\n",
      "        \"motor\": 196,\n",
      "        \"person\": 180,\n",
      "        \"traffic_light\": 41,\n",
      "        \"truck\": 275\n",
      "    },\n",
      "    {\n",
      "        \"car\": 136,\n",
      "        \"motor\": 131,\n",
      "        \"person\": 125,\n",
      "        \"traffic_light\": 34,\n",
      "        \"truck\": 491\n",
      "    },\n",
      "    {\n",
      "        \"car\": 54,\n",
      "        \"motor\": 32,\n",
      "        \"person\": 35,\n",
      "        \"traffic_light\": 16,\n",
      "        \"truck\": 296\n",
      "    }\n",
      "]\n",
      "Cluster names:  ['person', 'truck', 'truck', 'truck', 'truck']\n",
      "Gini Index:  [0.77218794494542, 0.7403549382716049, 0.7590334467120181, 0.6509420387233035, 0.5037735547152099]\n",
      "Average gini index:  0.6852583846735112\n"
     ]
    }
   ],
   "source": [
    "embeddings,metadata,n_clusters,class_names = load_tsv(config)\n",
    "gen_clusters_gini(embeddings,metadata,n_clusters,class_names)"
   ]
  },
  {
   "cell_type": "markdown",
   "id": "4ace66ff-6360-486d-bbeb-f1fe064df70d",
   "metadata": {},
   "source": [
    "## Clustering on Test Data"
   ]
  },
  {
   "cell_type": "code",
   "execution_count": 6,
   "id": "9ef8c3eb-1b94-463a-8409-015746065442",
   "metadata": {},
   "outputs": [],
   "source": [
    "def load_tsv(config):\n",
    "    embeddings_path = config['embeddings_test_path']\n",
    "    metadata_path = config['metadata_test_path']\n",
    "    \n",
    "    n_clusters = config['n_clusters']\n",
    "    class_names = config['class_names']\n",
    "    embeddings_file = open(embeddings_path) \n",
    "    embeddings = csv.reader(embeddings_file, delimiter=\"\\t\")\n",
    "    metadata_file = open(metadata_path) \n",
    "    metadata = csv.reader(metadata_file, delimiter=\"\\t\")\n",
    "    return embeddings,metadata,n_clusters,class_names"
   ]
  },
  {
   "cell_type": "code",
   "execution_count": 7,
   "id": "5c416dfb-b243-4fdf-9e67-9330a95cc3d9",
   "metadata": {},
   "outputs": [
    {
     "name": "stdout",
     "output_type": "stream",
     "text": [
      "Total number of images: 512\n",
      "[\n",
      "    {\n",
      "        \"car\": 40,\n",
      "        \"motor\": 21,\n",
      "        \"person\": 12,\n",
      "        \"traffic_light\": 8,\n",
      "        \"truck\": 43\n",
      "    },\n",
      "    {\n",
      "        \"car\": 43,\n",
      "        \"motor\": 66,\n",
      "        \"person\": 55,\n",
      "        \"traffic_light\": 13,\n",
      "        \"truck\": 32\n",
      "    },\n",
      "    {\n",
      "        \"car\": 4,\n",
      "        \"motor\": 8,\n",
      "        \"person\": 12,\n",
      "        \"traffic_light\": 10,\n",
      "        \"truck\": 11\n",
      "    },\n",
      "    {\n",
      "        \"car\": 14,\n",
      "        \"motor\": 8,\n",
      "        \"person\": 8,\n",
      "        \"traffic_light\": 33,\n",
      "        \"truck\": 10\n",
      "    },\n",
      "    {\n",
      "        \"car\": 0,\n",
      "        \"motor\": 6,\n",
      "        \"person\": 14,\n",
      "        \"traffic_light\": 37,\n",
      "        \"truck\": 4\n",
      "    }\n",
      "]\n",
      "Cluster names:  ['truck', 'motor', 'person', 'traffic_light', 'traffic_light']\n",
      "Gini Index:  [0.733480749219563, 0.7613836679563197, 0.7802469135802469, 0.7160818164758866, 0.5654393980112873]\n",
      "Average gini index:  0.7113265090486607\n"
     ]
    }
   ],
   "source": [
    "embeddings,metadata,n_clusters,class_names = load_tsv(config)\n",
    "gen_clusters_gini(embeddings,metadata,n_clusters,class_names)"
   ]
  },
  {
   "cell_type": "code",
   "execution_count": null,
   "id": "adfa6932-a509-4802-b6d2-b70ba45d8eae",
   "metadata": {},
   "outputs": [],
   "source": []
  }
 ],
 "metadata": {
  "kernelspec": {
   "display_name": "Python 3 (ipykernel)",
   "language": "python",
   "name": "python3"
  },
  "language_info": {
   "codemirror_mode": {
    "name": "ipython",
    "version": 3
   },
   "file_extension": ".py",
   "mimetype": "text/x-python",
   "name": "python",
   "nbconvert_exporter": "python",
   "pygments_lexer": "ipython3",
   "version": "3.8.10"
  }
 },
 "nbformat": 4,
 "nbformat_minor": 5
}
